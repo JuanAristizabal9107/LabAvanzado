{
 "cells": [
  {
   "cell_type": "code",
   "execution_count": 1,
   "metadata": {},
   "outputs": [],
   "source": [
    "#Librerias que necesitamos\n",
    "import os\n",
    "import fileinput\n",
    "import glob\n",
    "import matplotlib\n",
    "import matplotlib.pyplot as plt\n",
    "import pandas as pd\n",
    "import numpy as np\n",
    "from scipy.optimize import curve_fit\n",
    "import math"
   ]
  },
  {
   "cell_type": "code",
   "execution_count": 2,
   "metadata": {},
   "outputs": [],
   "source": [
    "#mostrar datos\n",
    "#data = pd.read_csv(\"M1.data\")\n",
    "#climate_temp2 = pd.read_csv(\"M2n.data\")\n",
    "#climate_temp3 = pd.read_csv(\"M3n.data\")\n",
    "#climate_temp4 = pd.read_csv(\"M4n.data\")\n",
    "#climate_temp5 = pd.read_csv(\"M5n.data\")\n"
   ]
  },
  {
   "cell_type": "code",
   "execution_count": 3,
   "metadata": {
    "scrolled": false
   },
   "outputs": [],
   "source": [
    "#climate_temp1, climate_temp2, climate_temp3"
   ]
  },
  {
   "cell_type": "code",
   "execution_count": 4,
   "metadata": {
    "scrolled": false
   },
   "outputs": [
    {
     "data": {
      "text/plain": [
       "\"\\nf24 = np.loadtxt('Mn24.data', unpack='false')\\nplt.hist(f24,histtype='bar', bins = 200)\\nplt.show()\\n\\nf25 = np.loadtxt('Mn25.data', unpack='false')\\nplt.hist(f25,histtype='bar', bins = 200)\\nplt.show()\\n\\nf26 = np.loadtxt('Mn26.data', unpack='false')\\nplt.hist(f26,histtype='bar', bins = 200)\\nplt.show()\\n\\nf27 = np.loadtxt('Mn27.data', unpack='false')\\nplt.hist(f27,histtype='bar', bins = 200)\\nplt.show()\\n\""
      ]
     },
     "execution_count": 4,
     "metadata": {},
     "output_type": "execute_result"
    }
   ],
   "source": [
    "#Defimos archivo abrir\n",
    "\n",
    "#Metodo 1 de Union\n",
    "read_files = glob.glob(\"Mn*.data\")\n",
    "\n",
    "''''\n",
    "with open(\"Muones.data\", \"wb\") as outfile:\n",
    "    for M in read_files:\n",
    "        with open (M, \"rb\") as infile:\n",
    "            outfile.write(infile.read())\n",
    "'''            \n",
    "\n",
    "'''\n",
    "#Metodo 2 de union\n",
    "file_list = glob.glob(\"*.data\")\n",
    "\n",
    "with open(\"Muones.data\", \"w\") as file:\n",
    "    input_lines = fileinput.input(file_list)\n",
    "    file.writelines(input_lines)\n",
    "'''\n",
    "'''\n",
    "\n",
    "#eliminar columnas\n",
    "\n",
    "f = open(\"Muones2 (8).data\", \"r\")\n",
    "g = open(\"M28.data\", \"w\")\n",
    "\n",
    "for line in f:\n",
    "    if line.strip():\n",
    "        g.write(\"\\t\".join(line.split()[:1]) + \"\\n\")\n",
    "        \n",
    "f.close()\n",
    "g.close()\n",
    "'''\n",
    "\n",
    "#Manipulacion datos\n",
    "#data = np.genfromtxt('M21.data')\n",
    "#data = data[data<10000]\n",
    "#np.savetxt(\"Mn21m.data\", data, fmt='%d')\n",
    "\n",
    "'''\n",
    "#imprimir datos \n",
    "f1 = np.loadtxt('Mn1.data', unpack='false')\n",
    "plt.hist(f1,histtype='bar', bins = 200)\n",
    "plt.show()\n",
    "\n",
    "\n",
    "f2 = np.loadtxt('Mn2.data', unpack='false')\n",
    "plt.hist(f2,histtype='bar', bins = 200)\n",
    "plt.show()\n",
    "\n",
    "f3 = np.loadtxt('Mn3.data', unpack='false')\n",
    "plt.hist(f3,histtype='bar', bins = 200)\n",
    "plt.show()\n",
    "\n",
    "f4 = np.loadtxt('Mn4.data', unpack='false')\n",
    "plt.hist(f4,histtype='bar', bins = 200)\n",
    "plt.show()\n",
    "\n",
    "f5 = np.loadtxt('Mn5.data', unpack='false')\n",
    "plt.hist(f5,histtype='bar', bins = 200)\n",
    "plt.show()\n",
    "'''\n",
    "'''\n",
    "f21 = np.loadtxt('Mn21m.data', unpack='false')\n",
    "plt.hist(f21,histtype='bar', bins = 200)\n",
    "plt.show()\n",
    "'''\n",
    "'''\n",
    "f22 = np.loadtxt('Mn22.data', unpack='false')\n",
    "plt.hist(f22,histtype='bar', bins = 200)\n",
    "plt.show()\n",
    "\n",
    "f23 = np.loadtxt('Mn23.data', unpack='false')\n",
    "plt.hist(f23,histtype='bar', bins = 200)\n",
    "plt.show()\n",
    "'''\n",
    "'''\n",
    "f24 = np.loadtxt('Mn24.data', unpack='false')\n",
    "plt.hist(f24,histtype='bar', bins = 200)\n",
    "plt.show()\n",
    "\n",
    "f25 = np.loadtxt('Mn25.data', unpack='false')\n",
    "plt.hist(f25,histtype='bar', bins = 200)\n",
    "plt.show()\n",
    "\n",
    "f26 = np.loadtxt('Mn26.data', unpack='false')\n",
    "plt.hist(f26,histtype='bar', bins = 200)\n",
    "plt.show()\n",
    "\n",
    "f27 = np.loadtxt('Mn27.data', unpack='false')\n",
    "plt.hist(f27,histtype='bar', bins = 200)\n",
    "plt.show()\n",
    "'''\n",
    "\n",
    "#data = data[np.logical_not(np.logical_and(data[:,0]>40000))]"
   ]
  },
  {
   "cell_type": "code",
   "execution_count": 5,
   "metadata": {},
   "outputs": [],
   "source": [
    "#climate_tempf = pd.read_csv(\"M1.data\")\n",
    "#climate_tempf"
   ]
  },
  {
   "cell_type": "code",
   "execution_count": 6,
   "metadata": {
    "scrolled": true
   },
   "outputs": [],
   "source": [
    "#imprimir datos \n",
    "f1 = np.loadtxt('Muones.data', unpack='false')\n",
    "#plt.hist(f1, histtype='bar', bins = 500)\n",
    "plt.show()\n",
    "\n",
    "#Distribucion exponencial \n",
    "\n",
    "#Definiendo funcion\n",
    "\n",
    "\n",
    "#Determinando datos\n",
    "x = np.loadtxt('Muones.data', unpack='false')\n",
    "\n"
   ]
  },
  {
   "cell_type": "code",
   "execution_count": 7,
   "metadata": {},
   "outputs": [],
   "source": [
    "#Estadistica muestra por muestra\n",
    "#Librerias\n",
    "import pandas as pd\n",
    "import matplotlib.pyplot as plt\n",
    "import seaborn as sns\n",
    "\n",
    "#traer datos\n",
    "muones = np.loadtxt('Muones.data', unpack='false')\n",
    "#muones = pd.read_csv('Muones.data')\n",
    "#muones.head(1)\n",
    "\n",
    "#Hacer histogramas con matplotlib\n",
    "#plt.hist(muones, color = 'blue', edgecolor = 'blue', bins = 1000, normed = True, stacked = True)\n",
    "\n",
    "#marcas el "
   ]
  },
  {
   "cell_type": "code",
   "execution_count": 8,
   "metadata": {},
   "outputs": [
    {
     "data": {
      "text/plain": [
       "<matplotlib.axes._subplots.AxesSubplot at 0x7f31897b3a10>"
      ]
     },
     "execution_count": 8,
     "metadata": {},
     "output_type": "execute_result"
    },
    {
     "data": {
      "image/png": "[encoded data removed]",
      "text/plain": [
       "<Figure size 432x288 with 1 Axes>"
      ]
     },
     "metadata": {
      "needs_background": "light"
     },
     "output_type": "display_data"
    }
   ],
   "source": [
    "#Histogramas con seaborn\n",
    "sns.distplot(muones, hist=True, kde=False, bins = 100, color = 'red', hist_kws = {'edgecolor': 'red'})\n"
   ]
  },
  {
   "cell_type": "code",
   "execution_count": 9,
   "metadata": {},
   "outputs": [
    {
     "data": {
      "text/plain": [
       "<matplotlib.axes._subplots.AxesSubplot at 0x7f31893197d0>"
      ]
     },
     "execution_count": 9,
     "metadata": {},
     "output_type": "execute_result"
    },
    {
     "data": {
      "image/png": "[encoded data removed]",
      "text/plain": [
       "<Figure size 432x288 with 1 Axes>"
      ]
     },
     "metadata": {
      "needs_background": "light"
     },
     "output_type": "display_data"
    }
   ],
   "source": [
    "sns.distplot(muones, hist=True, kde=True, bins = 100, color = 'darkblue', hist_kws = {'edgecolor': 'yellow'}, kde_kws={'linewidth':2})"
   ]
  },
  {
   "cell_type": "code",
   "execution_count": 10,
   "metadata": {},
   "outputs": [
    {
     "data": {
      "image/png": "[encoded data removed]",
      "text/plain": [
       "<Figure size 432x288 with 1 Axes>"
      ]
     },
     "metadata": {
      "needs_background": "light"
     },
     "output_type": "display_data"
    }
   ],
   "source": [
    "f0 = np.loadtxt('Muones.data', unpack='false')\n",
    "\n",
    "f1 = np.loadtxt('Mn21.data', unpack='false')\n",
    "f2 = np.loadtxt('Mn23.data', unpack='false')\n",
    "f3 = np.loadtxt('Mn2.data', unpack='false')\n",
    "f4 = np.loadtxt('Mn22.data', unpack='false')\n",
    "f5 = np.loadtxt('Mn4.data', unpack='false')\n",
    "f6 = np.loadtxt('Mn1.data', unpack='false')\n",
    "f7 = np.loadtxt('Mn5.data', unpack='false')\n",
    "\n",
    "conteos = ['Muestra 1 -1811','Muestra 2 - 1831','Muestra 3 - 3026','Muestra 4 - 7804','Muestra 5 - 9513','Muestra 6 - 9747','Muestra 7 - 10444']\n",
    "colors = ['skyblue','steelblue','lightblue', 'cadetblue','khaki','orange','red']\n",
    "\n",
    "plt.hist([f1, f2, f3, f4, f5, f6, f7],histtype='bar', bins = 60, stacked = True, color = colors, edgecolor = 'black', label = conteos)\n",
    "plt.legend()\n",
    "plt.xlabel('Tiempo decaimiento [ns]')\n",
    "plt.ylabel('Conteos de muones')\n",
    "plt.title('Historigrama de la Muestra')\n",
    "plt.show()"
   ]
  },
  {
   "cell_type": "code",
   "execution_count": 11,
   "metadata": {},
   "outputs": [
    {
     "data": {
      "image/png": "[encoded data removed]",
      "text/plain": [
       "<Figure size 432x288 with 1 Axes>"
      ]
     },
     "metadata": {
      "needs_background": "light"
     },
     "output_type": "display_data"
    }
   ],
   "source": [
    "f0 = np.loadtxt('Muones.data', unpack='false')\n",
    "\n",
    "f1 = np.loadtxt('Mn21.data', unpack='false')\n",
    "f2 = np.loadtxt('Mn23.data', unpack='false')\n",
    "f3 = np.loadtxt('Mn2.data', unpack='false')\n",
    "f4 = np.loadtxt('Mn22.data', unpack='false')\n",
    "f5 = np.loadtxt('Mn4.data', unpack='false')\n",
    "f6 = np.loadtxt('Mn1.data', unpack='false')\n",
    "f7 = np.loadtxt('Mn5.data', unpack='false')\n",
    "\n",
    "conteos = ['Muestra 1 -1811','Muestra 2 - 1831','Muestra 3 - 3026','Muestra 4 - 7804','Muestra 5 - 9513','Muestra 6 - 9747','Muestra 7 - 10444']\n",
    "colors = ['skyblue','steelblue','lightblue', 'cadetblue','khaki','orange','red']\n",
    "\n",
    "plt.hist([f1, f2, f3, f4, f5, f6, f7],histtype='bar', bins = 60, density = True, stacked = True, color = colors, edgecolor = 'black', label = conteos)\n",
    "plt.legend()\n",
    "plt.xlabel('Tiempo decaimiento [ns]')\n",
    "plt.ylabel('Conteos de muones')\n",
    "plt.title('Historigrama de la Muestra')\n",
    "plt.show()"
   ]
  },
  {
   "cell_type": "code",
   "execution_count": 69,
   "metadata": {
    "scrolled": false
   },
   "outputs": [
    {
     "data": {
      "image/png": "[encoded data removed]",
      "text/plain": [
       "<Figure size 432x288 with 1 Axes>"
      ]
     },
     "metadata": {
      "needs_background": "light"
     },
     "output_type": "display_data"
    },
    {
     "name": "stdout",
     "output_type": "stream",
     "text": [
      "0.0004572078447505414\n",
      "[[2.57086651e-11]]\n",
      "2187.189068345083\n"
     ]
    }
   ],
   "source": [
    "muones = np.loadtxt('Muones.data', unpack='false')\n",
    "n,edges = np.histogram(muones, bins=500, density = True)\n",
    "#n1,edges1 = np.histogram(f1, bins=50, density = True)\n",
    "#n2,edges2 = np.histogram(f2, bins=50, density = True)\n",
    "dx=np.linspace(0,10000, 500)\n",
    "#dx2=np.linspace(0,10000, 50)\n",
    "\n",
    "#print(muones, n)\n",
    "\n",
    "import matplotlib.pyplot as plt\n",
    "import numpy as np\n",
    "from scipy.optimize import curve_fit\n",
    "\n",
    "def exp_func(x, a):\n",
    "    #return a * np.exp(-a*x)+b\n",
    "    return a * np.exp(-a*x)\n",
    "\n",
    "popt, pcov = curve_fit(exp_func, dx, n)\n",
    "\n",
    "colors = ['skyblue','steelblue']\n",
    "labels = ['\\u03BB = 0.0000045']\n",
    "\n",
    "#plt.plot(dx,n)\n",
    "#sns.distplot(muones, hist=True, kde=True, bins = 500, color = 'blue', hist_kws = {'edgecolor': 'blue'})\n",
    "plt.hist(muones, color = 'skyblue', edgecolor = 'skyblue', bins = 500, density = True, stacked = True)\n",
    "#plt.plot(dx, exp_func(dx, *popt), 'r-', label='fit: a1=%2.3f' % tuple(popt))\n",
    "plt.plot(dx, exp_func(dx, *popt), color = 'blue', label= '\\u03BB = 0.0000045')\n",
    "plt.legend()\n",
    "plt.show()\n",
    "print(popt[0])\n",
    "print(pcov)\n",
    "print(1/popt[0])\n",
    "#print(popt[1])\n",
    "\n",
    "\n"
   ]
  },
  {
   "cell_type": "code",
   "execution_count": 70,
   "metadata": {
    "scrolled": false
   },
   "outputs": [
    {
     "name": "stdout",
     "output_type": "stream",
     "text": [
      "7.096043435528913e-10\n",
      "2.6638399793397713e-05\n",
      "0.949654909863652\n",
      "5.034509013634803\n"
     ]
    }
   ],
   "source": [
    "import numpy, scipy, matplotlib\n",
    "import matplotlib.pyplot as plt\n",
    "from scipy.optimize import curve_fit\n",
    "from scipy.optimize import differential_evolution\n",
    "import warnings\n",
    "import csv\n",
    "\n",
    "muones = np.loadtxt('Muones.data', unpack='false')\n",
    "n,edges = np.histogram(muones, bins=500, density = True)\n",
    "\n",
    "dx=np.linspace(0,9980, 500)\n",
    "funcion = popt*np.exp(-popt*dx)\n",
    "\n",
    "\n",
    "absError = n-funcion\n",
    "#absError = edges-dx\n",
    "\n",
    "SE = numpy.square(absError)\n",
    "MSE = numpy.mean(SE)\n",
    "RMSE = numpy.sqrt(MSE)\n",
    "Rsquared = 1.0 - (numpy.var(absError)/numpy.var(n))\n",
    "Incer = (numpy.var(absError)/numpy.var(n))*100\n",
    "\n",
    "\n",
    "#print(SE)\n",
    "print(MSE)\n",
    "print(RMSE)\n",
    "print(Rsquared)\n",
    "print(Incer)\n",
    "#print(edges)\n",
    "#print(dx)\n",
    "#print(reError)\n",
    "\n",
    "#print(absError)\n",
    "#with open('edges.data', 'w') as csvfile:\n",
    "#    writer = csv.writer(csvfile)\n",
    "#    writer.writerow(edges)\n",
    "\n",
    "#dx2 = np.loadtxt('edges.data', unpack='false')\n",
    "\n",
    "    \n",
    "#plt.plot(dx2, n)\n",
    "#plt.plot(dx, funcion)"
   ]
  },
  {
   "cell_type": "code",
   "execution_count": 75,
   "metadata": {},
   "outputs": [
    {
     "data": {
      "image/png": "[encoded data removed]",
      "text/plain": [
       "<Figure size 432x288 with 1 Axes>"
      ]
     },
     "metadata": {
      "needs_background": "light"
     },
     "output_type": "display_data"
    },
    {
     "name": "stdout",
     "output_type": "stream",
     "text": [
      "1.1840955599100506e-06\n"
     ]
    }
   ],
   "source": [
    "SE = numpy.square(absError)\n",
    "\n",
    "plt.hist(absError, histtype='bar', bins = 100)\n",
    "plt.xlabel('Error absoluto de los conteos')\n",
    "plt.ylabel('Numero de Errores')\n",
    "plt.title('Diagrama de Errores de los conteos')\n",
    "plt.show()\n",
    "plt.show()\n",
    "\n",
    "MSA = numpy.mean(absError)\n",
    "print(MSA)\n",
    "\n",
    "\n",
    "funcion = popt*np.exp(-popt*dx)\n"
   ]
  },
  {
   "cell_type": "code",
   "execution_count": 72,
   "metadata": {},
   "outputs": [
    {
     "name": "stdout",
     "output_type": "stream",
     "text": [
      "[-5.70839001e+03 -1.71218028e+03 -3.90090501e+03 -1.10971715e+02\n",
      "  4.83570741e+02  5.37385166e+02  5.37185159e+02  9.50881486e+01\n",
      "  3.83830135e+02 -6.97917068e+01 -2.93333287e+01 -4.40315045e+02\n",
      "  1.09083716e+02  3.24124354e+02  4.33496814e+02  2.02007179e+02\n",
      "  5.45434660e+02 -1.68188671e+02  2.47561605e+02  3.52483749e+02\n",
      "  2.42206199e+02  6.72306082e+02  4.29694464e+02  5.40750630e+02\n",
      "  6.37917730e+02  1.01669804e+03  2.89911654e+02  5.22429740e+02\n",
      "  1.51821982e+02  6.98913607e+01  4.95549970e+02  1.74819696e+02\n",
      "  4.81469754e+01  5.90439732e+01  6.48379808e+02  4.88046887e+02\n",
      "  1.75906534e+02  3.61529000e+02  1.24869787e+02  6.00963649e+01\n",
      "  2.30444010e+02  3.90963787e+02  1.76931925e+02  1.10335480e+02\n",
      " -2.68726961e+02  3.75544660e+02  2.10882108e+02  4.34994528e+02\n",
      "  1.88675360e+01  8.13361659e+00  5.15956436e+02 -5.04818888e+01\n",
      "  1.59156534e+02  1.48564723e+02  4.49301014e+02  3.51580383e+02\n",
      "  6.06560508e+01 -6.37895076e+01 -1.58475103e+02  3.27289627e+02\n",
      "  9.27633070e+01 -1.64922826e+01  2.91379288e+02  2.78124206e+02\n",
      "  1.20928017e+02  1.22674968e+02 -1.99912122e+02 -2.46407250e+02\n",
      "  6.05560288e+02 -1.84653646e+02  1.65037927e+02  2.03422306e+02\n",
      "  2.22562239e+02  1.44322932e+02 -2.14862460e+00  3.72175544e+02\n",
      "  3.53901268e+02  9.29110277e+00 -3.55774779e+02  2.54323625e+02\n",
      " -1.94110916e+02  1.66146463e+02 -1.11219271e+02 -2.45415937e+02\n",
      " -2.29180523e+02 -1.87183349e+02  3.54918452e+02 -2.61868895e+02\n",
      " -5.37871809e+02  1.89665571e+02  5.20351401e+02 -4.33849855e+01\n",
      " -5.43731972e+01  2.51453918e+02  2.89128962e+02 -5.07511399e+02\n",
      " -1.88966827e+02 -6.19176073e+02  1.07226032e+02 -2.08746176e+02\n",
      " -3.82633260e+02 -1.25569389e+02  8.40266814e+02  3.22615025e+02\n",
      "  2.42963119e+01  5.12131992e+02 -7.99643380e+02  3.73771172e+02\n",
      " -1.64937033e+01 -9.65664394e+01 -3.49774911e+02  2.68026523e+02\n",
      "  2.24955486e+02 -3.97714402e+02  5.05922043e+02 -2.05434752e+02\n",
      " -6.13955756e+02 -8.29864068e+02  7.89269614e+01 -6.01091899e+02\n",
      " -4.32341871e+02  4.77524733e+02 -1.97037197e+01 -5.02912258e+02\n",
      " -4.57999041e+02 -1.06030794e+02  4.68052725e+02  3.90635930e+02\n",
      " -9.19782226e+01 -1.62957198e+02  5.27866514e+02  3.58899439e+02\n",
      "  1.37943735e+02  6.06186920e+02 -7.92206279e+02  1.50400353e+02\n",
      " -8.57641812e+02 -4.06272873e+02 -6.02177867e+02 -1.05202300e+02\n",
      "  1.16780028e+03 -3.69852872e+02 -2.39518926e+01 -1.24722642e+03\n",
      "  2.08785310e+02 -6.79614332e+01 -4.92953569e+02 -8.40261980e+02\n",
      " -4.55164423e+02  1.32037657e+02 -6.95037549e+02  2.09037379e+02\n",
      "  1.67499981e+02  2.84767587e+02 -9.24419784e+00  2.81645433e+02\n",
      " -3.65909146e+02  2.76999634e+02 -3.32690778e+02 -1.35509288e+02\n",
      " -1.39905998e+03 -4.24071341e+02  8.09394277e+01 -3.93622091e+02\n",
      "  8.53003915e+02 -4.83658239e+02  0.00000000e+00 -1.00566516e+01\n",
      "  2.98530428e+01 -5.56676364e+02 -2.64996138e+02  7.77099057e+02\n",
      " -7.65721359e+02 -7.17647668e+02  5.71275852e+02 -7.71763049e+02\n",
      "  7.21358667e+02  6.35663991e+02  3.64236732e+02 -3.08385241e+02\n",
      " -3.97035855e+02 -1.05890042e+03 -1.19643667e+02 -1.93330391e+01\n",
      "  4.41792150e+02  2.26418784e+02 -4.12081576e+02  2.48762052e+02\n",
      "  6.76168149e+02  2.70303280e+02 -4.12860548e+01  2.35648188e+02\n",
      "  4.85399958e+02  3.65461037e+02  4.55025820e+02  9.49368720e+01\n",
      "  2.53610160e+02 -5.42476251e+02  4.40349367e+02 -5.36523276e+02\n",
      "  8.59185004e+02  2.02609071e+02 -3.20668223e+02 -1.99973882e+02\n",
      "  2.54139896e+02  1.19517121e+03  8.23625726e+02  1.74540810e+02\n",
      "  1.45607562e+02  1.15379371e+02  2.22380351e+02  4.51475539e+02\n",
      " -1.39427144e+02 -6.39532071e+02  1.67855017e+02  1.11909555e+03\n",
      "  1.10410707e+03  1.38041433e+02 -1.22092112e+03 -1.63217754e+01\n",
      " -1.92328621e+03 -1.34449334e+03 -6.18185857e+01  1.41422981e+02\n",
      " -1.03754499e+03 -7.33320700e+02  4.04151133e+02  5.78195644e+02\n",
      " -4.80131638e+02  9.54665413e+02  3.29541055e+02  1.13029953e+03\n",
      " -2.02370124e+02  4.39864184e+02 -2.36785200e+01  4.36842016e+02\n",
      "  7.57527759e+02  1.84587726e+02 -2.60453592e+02  8.15491967e+01\n",
      "  1.20645791e+02  1.59405508e+02  7.85342371e+00  4.91161303e+02\n",
      " -4.64419004e+02  1.26044777e+02 -5.02203346e+02 -2.39415715e+03\n",
      "  1.08964237e+03 -2.10983489e+01  7.36900536e+02  1.61387894e+02\n",
      "  9.78580445e+01  6.83242623e+02 -5.47331802e+02  3.13164103e+02\n",
      "  3.50349352e+02  6.57009836e+02  9.30295375e+02  6.41055074e+02\n",
      " -4.20125525e+02 -3.76132613e+02  4.96229884e+01  8.61814066e+02\n",
      "  1.12530746e+03  6.72823548e+02  8.91427410e+01 -9.09709655e+02\n",
      "  4.65729811e+01  7.19969070e+02  1.84546510e-02  9.62293780e+02\n",
      "  7.30263290e+02  4.65213313e+02 -7.53947684e+02 -2.26720059e+03\n",
      " -2.19177463e+03 -1.49388371e+03 -2.89834079e+03 -9.06791267e+02\n",
      " -1.90762402e+03 -8.07599683e+02 -1.47334501e+03 -2.05259567e+03\n",
      " -2.37796429e+03 -4.29423202e+02 -3.25624761e+03  1.46608168e+03\n",
      " -1.13553894e+03 -8.44652283e+02 -3.28117769e+03 -1.53001371e+03\n",
      " -1.30320139e+02 -8.92904389e+01 -8.01376286e+03 -7.78730695e+02\n",
      " -9.71156636e+02 -9.20337663e+02  1.10232054e+02 -1.37325345e+03\n",
      " -5.43449772e+02 -1.97242544e+03  1.75569336e+03 -1.83687681e+03\n",
      " -1.66785549e+02  3.75522062e+02 -3.24958424e+03 -6.80431883e+02\n",
      "  3.33806388e+02 -8.41618014e+02 -1.78758013e+03 -2.75545452e+03\n",
      "  1.24107914e+03 -6.49139172e+02 -2.49620077e+03 -5.97088680e+03\n",
      " -2.76453428e+02 -2.33978103e+02  6.92019038e+02 -9.17575232e+02\n",
      " -1.09083500e+02 -1.96817354e+03 -1.89975231e+03 -2.05998837e+02\n",
      " -1.33910848e+03 -1.70304705e+03 -1.22719134e+03 -2.07697692e+03\n",
      "  3.97717282e+02  3.86788351e+01 -6.85574209e+02  3.20542702e+02\n",
      " -9.11563965e+02  0.00000000e+00 -8.12244815e+02  5.41385604e+01\n",
      "  8.48449964e+02  1.32468127e+02  9.15178049e+02 -1.31659320e+03\n",
      "  1.79263670e+01 -2.28918186e+03 -3.03294218e+03 -1.09768305e+03\n",
      " -2.83982156e+03  1.14265006e+03  4.69342972e+02 -1.85960353e+03\n",
      "  9.16881500e+02  9.49933912e+02 -3.97627514e+02  4.36246172e+02\n",
      " -3.10597912e+02  7.16116825e+02 -2.03237874e+03  1.01556783e+02\n",
      " -8.47063633e+02  8.52017337e+02  1.23908329e+03 -1.69786222e+03\n",
      "  2.03722282e+01 -6.07623531e+02 -3.23484510e+03 -5.15910266e+02\n",
      " -4.70849402e+02 -8.34888435e+02 -4.42735268e+03 -7.37586255e+02\n",
      " -1.17128958e+03  6.19074431e+02  1.17052851e+02  6.88737853e+02\n",
      " -2.32485667e+03 -4.59817320e+02  2.70274500e+02 -3.22201746e+03\n",
      "  8.58942089e+02  1.80858662e+03 -6.66965972e+02 -1.14017881e+03\n",
      " -1.08690250e+03 -1.03442104e+03 -2.55835765e+03  1.29808967e+03\n",
      "  4.30327760e+00 -1.45024780e+03  4.14804734e+02  1.22587912e+02\n",
      " -7.13669640e+03  8.04968330e+02  2.02568582e+03 -1.11462056e+03\n",
      "  1.75497692e+03 -4.57074327e+02 -2.78705364e+03 -9.07614753e+02\n",
      " -3.25324142e+02 -2.52503021e+03  1.92670225e+03  2.27307510e+03\n",
      "  9.02081084e+02  9.35221853e+02 -2.13504323e+03  7.07360860e+02\n",
      " -3.49993707e+03  1.06585498e+03  1.35271542e+03 -9.52174454e+02\n",
      " -9.01619944e+02 -1.66181648e+03  2.83501162e+03 -1.77734530e+02\n",
      " -7.06093919e+02  3.52569023e+02  2.01442926e+03  4.26047038e+02\n",
      "  1.65333852e+03 -4.75102226e+02  1.20136811e+03  2.49959226e+03\n",
      " -4.01721998e+03  6.40096011e+02  1.32625919e+03  7.09477594e+02\n",
      " -1.78059081e+03  7.77947713e+02  8.11853420e+02  2.17884368e+03\n",
      "  1.21663279e+03  1.79575784e+03 -1.41173914e+03 -8.01494242e+03\n",
      "  1.01096500e+03 -4.12930001e+02  2.24870363e+02  1.10793017e+03\n",
      "  1.13989382e+03  2.02260870e+03 -1.97946248e+02 -2.12020123e+03\n",
      "  4.47770262e+02  4.83933547e+02  9.61126047e+02 -7.28099510e+02\n",
      "  5.90863397e+02  2.83944457e+03  6.60909272e+02  1.12322523e+03\n",
      " -4.95822503e+02  1.84543955e+03  1.87398552e+03  1.60033309e+03\n",
      "  1.93074751e+03  1.31200250e+03  4.25836406e+02  2.01509275e+03\n",
      "  1.74686120e+03  1.77580035e+03  5.69556270e+02 -9.21723787e+02\n",
      "  1.52520069e+03  6.74702900e+02  9.12655249e+01 -7.25158924e+02\n",
      " -2.07708257e+03  1.28466008e+03  2.31684496e+03  2.05905814e+03\n",
      "  1.76070400e+03  2.64765761e+03  1.43832434e+03  1.46861460e+03\n",
      "  2.94816358e+03  1.52877408e+03  1.55864841e+03 -3.18437866e+03\n",
      "  3.04847581e+03 -1.06625274e+02  2.04452752e+03  1.26587083e+03\n",
      "  1.73516927e+03  2.12764517e+03  2.46576388e+03  1.38947028e+03\n",
      "  1.71320118e+02  2.09651989e+02  2.84004871e+03  2.29134750e+03\n",
      "  3.53985415e+03  1.57047370e+03  2.94138522e+03  2.04785005e+03\n",
      "  2.72680765e+03  3.25247635e+03  1.71763452e+03 -2.11029850e+03\n",
      "  2.82927215e+03  1.80445607e+03  2.88011714e+03  1.36316934e+03]\n"
     ]
    }
   ],
   "source": [
    "#absError es el arreglo de errores\n",
    "#arreglo de datos tomados\n",
    "\n",
    "import math\n",
    "\n",
    "#Intervalos de error\n",
    "max_ydy = n + absError\n",
    "#min_ydy = n - absError\n",
    "\n",
    "\n",
    "\n",
    "#considerar valores absolutos\n",
    "\n",
    "AbsMax_ydy = np.absolute(max_ydy)\n",
    "AbsMin_ydy = np.absolute(min_ydy)\n",
    "\n",
    "lambdaydy = AbsMax_ydy/popt\n",
    "\n",
    "#d_x = (np.absolute(np.log(lambdaydy))-popt*(dx))/popt\n",
    "d_x = ((np.log(lambdaydy))+popt*(dx))/popt\n",
    "\n",
    "#print(AbsMax_ydy)\n",
    "print(d_x)\n",
    "#print(min_ydy)\n",
    "\n",
    "\n"
   ]
  },
  {
   "cell_type": "code",
   "execution_count": 73,
   "metadata": {},
   "outputs": [
    {
     "data": {
      "image/png": "[encoded data removed]",
      "text/plain": [
       "<Figure size 432x288 with 1 Axes>"
      ]
     },
     "metadata": {
      "needs_background": "light"
     },
     "output_type": "display_data"
    },
    {
     "name": "stdout",
     "output_type": "stream",
     "text": [
      "-35.57023478128731\n"
     ]
    }
   ],
   "source": [
    "plt.hist(d_x, histtype='bar', bins = 50)\n",
    "plt.show()\n",
    "\n",
    "media = numpy.mean(d_x)\n",
    "print(media)\n"
   ]
  },
  {
   "cell_type": "code",
   "execution_count": 77,
   "metadata": {},
   "outputs": [
    {
     "data": {
      "image/png": "[encoded data removed]",
      "text/plain": [
       "<Figure size 432x288 with 1 Axes>"
      ]
     },
     "metadata": {
      "needs_background": "light"
     },
     "output_type": "display_data"
    },
    {
     "data": {
      "image/png": "[encoded data removed]",
      "text/plain": [
       "<Figure size 432x288 with 1 Axes>"
      ]
     },
     "metadata": {
      "needs_background": "light"
     },
     "output_type": "display_data"
    },
    {
     "name": "stdout",
     "output_type": "stream",
     "text": [
      "-35.57023478128731 1362.93641878635\n"
     ]
    }
   ],
   "source": [
    "#muones = np.loadtxt('Muones.data', unpack='false')\n",
    "medias = d_x\n",
    "m,edge = np.histogram(medias, bins=500, density = True)\n",
    "#n1,edges1 = np.histogram(f1, bins=50, density = True)\n",
    "#n2,edges2 = np.histogram(f2, bins=50, density = True)\n",
    "dm=np.linspace(-8000,4000, 500)\n",
    "#dx2=np.linspace(0,10000, 50)\n",
    "\n",
    "#print(muones, n)\n",
    "\n",
    "import matplotlib.pyplot as plt\n",
    "import numpy as np\n",
    "import matplotlib.pyplot as plt\n",
    "from scipy.optimize import curve_fit\n",
    "from scipy.stats import norm\n",
    "\n",
    "mu, std = norm.fit(medias)\n",
    "\n",
    "plt.hist(medias, bins = 50, density = True, alpha = 0.6, color = 'g')\n",
    "plt.xlabel('Error absoluto de la media de vida')\n",
    "plt.ylabel('Numero de Errores')\n",
    "plt.title('Diagrama de Errores de la media de vida')\n",
    "plt.show()\n",
    "plt.show()\n",
    "\n",
    "xmin, xmax = plt.xlim()\n",
    "x = np.linspace(xmin, xmax, 100)\n",
    "p = norm.pdf(x, mu, std)\n",
    "plt.plot(x, p, 'k', linewidth=2)\n",
    "\n",
    "plt.show()\n",
    "\n",
    "print(mu, std)\n",
    "\n"
   ]
  },
  {
   "cell_type": "code",
   "execution_count": null,
   "metadata": {},
   "outputs": [],
   "source": []
  }
 ],
 "metadata": {
  "kernelspec": {
   "display_name": "Python 3",
   "language": "python",
   "name": "python3"
  },
  "language_info": {
   "codemirror_mode": {
    "name": "ipython",
    "version": 3
   },
   "file_extension": ".py",
   "mimetype": "text/x-python",
   "name": "python",
   "nbconvert_exporter": "python",
   "pygments_lexer": "ipython3",
   "version": "3.7.4"
  }
 },
 "nbformat": 4,
 "nbformat_minor": 2
}
